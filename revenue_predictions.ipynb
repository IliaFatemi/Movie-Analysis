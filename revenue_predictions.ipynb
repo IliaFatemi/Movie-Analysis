{
 "cells": [
  {
   "cell_type": "code",
   "execution_count": 1,
   "id": "ad8614f0",
   "metadata": {},
   "outputs": [],
   "source": [
    "from sklearn.model_selection import train_test_split\n",
    "from sklearn.linear_model import LinearRegression\n",
    "from sklearn.preprocessing import MinMaxScaler\n",
    "from sklearn.pipeline import make_pipeline\n",
    "import pandas as pd\n",
    "import matplotlib.pyplot as plt\n",
    "from sklearn.ensemble import RandomForestRegressor\n",
    "from sklearn.preprocessing import OneHotEncoder\n",
    "import numpy as np"
   ]
  },
  {
   "cell_type": "code",
   "execution_count": 2,
   "id": "722d1211",
   "metadata": {},
   "outputs": [],
   "source": [
    "movie_data = pd.read_csv('movie_dataset_cleaned_with_profits.csv')"
   ]
  },
  {
   "cell_type": "code",
   "execution_count": 3,
   "id": "5d24f60a",
   "metadata": {},
   "outputs": [],
   "source": [
    "# Convert runtimeMinutes to numeric, coerce errors to handle non-numeric values\n",
    "movie_data['runtimeMinutes'] = pd.to_numeric(movie_data['runtimeMinutes'], errors='coerce')"
   ]
  },
  {
   "cell_type": "code",
   "execution_count": 4,
   "id": "4bf00f49",
   "metadata": {},
   "outputs": [],
   "source": [
    "# Drop Movies that have 0 revenue and runtimeMin and movies before 2000\n",
    "movie_data = movie_data[(movie_data['revenue'] > 0) & (movie_data['runtimeMinutes'] > 0) & (movie_data['startYear'] > 2000)]"
   ]
  },
  {
   "cell_type": "code",
   "execution_count": 5,
   "id": "c7d7a1c5",
   "metadata": {},
   "outputs": [],
   "source": [
    "# Changing units of revenue to be in the millions for easier readibility \n",
    "movie_data['revenue'] = movie_data['revenue'] / 1000000"
   ]
  },
  {
   "cell_type": "code",
   "execution_count": 6,
   "id": "aa059016",
   "metadata": {},
   "outputs": [],
   "source": [
    "# Replace \\\\N fields in each row with NaN and drop the row\n",
    "movie_data_clean = movie_data.replace('\\\\N', np.nan).dropna()"
   ]
  },
  {
   "cell_type": "code",
   "execution_count": 7,
   "id": "31837fd4",
   "metadata": {},
   "outputs": [],
   "source": [
    "# https://scikit-learn.org/stable/modules/generated/sklearn.preprocessing.OneHotEncoder.html\n",
    "# Add encoded genres back to the dataframe\n",
    "encoder = OneHotEncoder(sparse_output=False)\n",
    "genres_encoded = encoder.fit_transform(movie_data_clean[['genres']])\n",
    "encoded_genres_df = pd.DataFrame(genres_encoded, columns=encoder.get_feature_names_out(['genres']))\n",
    "movie_data_clean = pd.concat([movie_data_clean.reset_index(drop=True), encoded_genres_df.reset_index(drop=True)], axis=1)"
   ]
  },
  {
   "cell_type": "code",
   "execution_count": 8,
   "id": "444ed45b",
   "metadata": {},
   "outputs": [
    {
     "data": {
      "text/html": [
       "<div>\n",
       "<style scoped>\n",
       "    .dataframe tbody tr th:only-of-type {\n",
       "        vertical-align: middle;\n",
       "    }\n",
       "\n",
       "    .dataframe tbody tr th {\n",
       "        vertical-align: top;\n",
       "    }\n",
       "\n",
       "    .dataframe thead th {\n",
       "        text-align: right;\n",
       "    }\n",
       "</style>\n",
       "<table border=\"1\" class=\"dataframe\">\n",
       "  <thead>\n",
       "    <tr style=\"text-align: right;\">\n",
       "      <th></th>\n",
       "      <th>tconst</th>\n",
       "      <th>primaryTitle</th>\n",
       "      <th>startYear</th>\n",
       "      <th>runtimeMinutes</th>\n",
       "      <th>genres</th>\n",
       "      <th>averageRating</th>\n",
       "      <th>numVotes</th>\n",
       "      <th>budget</th>\n",
       "      <th>revenue</th>\n",
       "      <th>profit</th>\n",
       "      <th>...</th>\n",
       "      <th>genres_Mystery,Romance,Thriller</th>\n",
       "      <th>genres_Mystery,Sci-Fi</th>\n",
       "      <th>genres_Mystery,Sci-Fi,Thriller</th>\n",
       "      <th>genres_Mystery,Thriller</th>\n",
       "      <th>genres_Romance</th>\n",
       "      <th>genres_Sci-Fi</th>\n",
       "      <th>genres_Sci-Fi,Thriller</th>\n",
       "      <th>genres_Sport</th>\n",
       "      <th>genres_Thriller</th>\n",
       "      <th>genres_War</th>\n",
       "    </tr>\n",
       "  </thead>\n",
       "  <tbody>\n",
       "    <tr>\n",
       "      <th>0</th>\n",
       "      <td>tt0035423</td>\n",
       "      <td>Kate &amp; Leopold</td>\n",
       "      <td>2001.0</td>\n",
       "      <td>118.0</td>\n",
       "      <td>Comedy,Fantasy,Romance</td>\n",
       "      <td>6.4</td>\n",
       "      <td>89379</td>\n",
       "      <td>48000000.0</td>\n",
       "      <td>76.019048</td>\n",
       "      <td>28019048.0</td>\n",
       "      <td>...</td>\n",
       "      <td>0.0</td>\n",
       "      <td>0.0</td>\n",
       "      <td>0.0</td>\n",
       "      <td>0.0</td>\n",
       "      <td>0.0</td>\n",
       "      <td>0.0</td>\n",
       "      <td>0.0</td>\n",
       "      <td>0.0</td>\n",
       "      <td>0.0</td>\n",
       "      <td>0.0</td>\n",
       "    </tr>\n",
       "    <tr>\n",
       "      <th>1</th>\n",
       "      <td>tt0118589</td>\n",
       "      <td>Glitter</td>\n",
       "      <td>2001.0</td>\n",
       "      <td>104.0</td>\n",
       "      <td>Drama,Music,Romance</td>\n",
       "      <td>2.4</td>\n",
       "      <td>24128</td>\n",
       "      <td>22000000.0</td>\n",
       "      <td>5.271666</td>\n",
       "      <td>-16728334.0</td>\n",
       "      <td>...</td>\n",
       "      <td>0.0</td>\n",
       "      <td>0.0</td>\n",
       "      <td>0.0</td>\n",
       "      <td>0.0</td>\n",
       "      <td>0.0</td>\n",
       "      <td>0.0</td>\n",
       "      <td>0.0</td>\n",
       "      <td>0.0</td>\n",
       "      <td>0.0</td>\n",
       "      <td>0.0</td>\n",
       "    </tr>\n",
       "    <tr>\n",
       "      <th>2</th>\n",
       "      <td>tt0120667</td>\n",
       "      <td>Fantastic Four</td>\n",
       "      <td>2005.0</td>\n",
       "      <td>106.0</td>\n",
       "      <td>Action,Adventure,Fantasy</td>\n",
       "      <td>5.7</td>\n",
       "      <td>345082</td>\n",
       "      <td>100000000.0</td>\n",
       "      <td>333.535934</td>\n",
       "      <td>233535934.0</td>\n",
       "      <td>...</td>\n",
       "      <td>0.0</td>\n",
       "      <td>0.0</td>\n",
       "      <td>0.0</td>\n",
       "      <td>0.0</td>\n",
       "      <td>0.0</td>\n",
       "      <td>0.0</td>\n",
       "      <td>0.0</td>\n",
       "      <td>0.0</td>\n",
       "      <td>0.0</td>\n",
       "      <td>0.0</td>\n",
       "    </tr>\n",
       "    <tr>\n",
       "      <th>3</th>\n",
       "      <td>tt0120681</td>\n",
       "      <td>From Hell</td>\n",
       "      <td>2001.0</td>\n",
       "      <td>122.0</td>\n",
       "      <td>Horror,Mystery,Thriller</td>\n",
       "      <td>6.7</td>\n",
       "      <td>164851</td>\n",
       "      <td>35000000.0</td>\n",
       "      <td>74.558115</td>\n",
       "      <td>39558115.0</td>\n",
       "      <td>...</td>\n",
       "      <td>0.0</td>\n",
       "      <td>0.0</td>\n",
       "      <td>0.0</td>\n",
       "      <td>0.0</td>\n",
       "      <td>0.0</td>\n",
       "      <td>0.0</td>\n",
       "      <td>0.0</td>\n",
       "      <td>0.0</td>\n",
       "      <td>0.0</td>\n",
       "      <td>0.0</td>\n",
       "    </tr>\n",
       "    <tr>\n",
       "      <th>4</th>\n",
       "      <td>tt0120737</td>\n",
       "      <td>The Lord of the Rings: The Fellowship of the Ring</td>\n",
       "      <td>2001.0</td>\n",
       "      <td>178.0</td>\n",
       "      <td>Action,Adventure,Drama</td>\n",
       "      <td>8.9</td>\n",
       "      <td>2021654</td>\n",
       "      <td>93000000.0</td>\n",
       "      <td>871.368364</td>\n",
       "      <td>778368364.0</td>\n",
       "      <td>...</td>\n",
       "      <td>0.0</td>\n",
       "      <td>0.0</td>\n",
       "      <td>0.0</td>\n",
       "      <td>0.0</td>\n",
       "      <td>0.0</td>\n",
       "      <td>0.0</td>\n",
       "      <td>0.0</td>\n",
       "      <td>0.0</td>\n",
       "      <td>0.0</td>\n",
       "      <td>0.0</td>\n",
       "    </tr>\n",
       "  </tbody>\n",
       "</table>\n",
       "<p>5 rows × 373 columns</p>\n",
       "</div>"
      ],
      "text/plain": [
       "      tconst                                       primaryTitle  startYear  \\\n",
       "0  tt0035423                                     Kate & Leopold     2001.0   \n",
       "1  tt0118589                                            Glitter     2001.0   \n",
       "2  tt0120667                                     Fantastic Four     2005.0   \n",
       "3  tt0120681                                          From Hell     2001.0   \n",
       "4  tt0120737  The Lord of the Rings: The Fellowship of the Ring     2001.0   \n",
       "\n",
       "   runtimeMinutes                    genres  averageRating  numVotes  \\\n",
       "0           118.0    Comedy,Fantasy,Romance            6.4     89379   \n",
       "1           104.0       Drama,Music,Romance            2.4     24128   \n",
       "2           106.0  Action,Adventure,Fantasy            5.7    345082   \n",
       "3           122.0   Horror,Mystery,Thriller            6.7    164851   \n",
       "4           178.0    Action,Adventure,Drama            8.9   2021654   \n",
       "\n",
       "        budget     revenue       profit  ...  genres_Mystery,Romance,Thriller  \\\n",
       "0   48000000.0   76.019048   28019048.0  ...                              0.0   \n",
       "1   22000000.0    5.271666  -16728334.0  ...                              0.0   \n",
       "2  100000000.0  333.535934  233535934.0  ...                              0.0   \n",
       "3   35000000.0   74.558115   39558115.0  ...                              0.0   \n",
       "4   93000000.0  871.368364  778368364.0  ...                              0.0   \n",
       "\n",
       "   genres_Mystery,Sci-Fi  genres_Mystery,Sci-Fi,Thriller  \\\n",
       "0                    0.0                             0.0   \n",
       "1                    0.0                             0.0   \n",
       "2                    0.0                             0.0   \n",
       "3                    0.0                             0.0   \n",
       "4                    0.0                             0.0   \n",
       "\n",
       "   genres_Mystery,Thriller  genres_Romance  genres_Sci-Fi  \\\n",
       "0                      0.0             0.0            0.0   \n",
       "1                      0.0             0.0            0.0   \n",
       "2                      0.0             0.0            0.0   \n",
       "3                      0.0             0.0            0.0   \n",
       "4                      0.0             0.0            0.0   \n",
       "\n",
       "   genres_Sci-Fi,Thriller  genres_Sport  genres_Thriller  genres_War  \n",
       "0                     0.0           0.0              0.0         0.0  \n",
       "1                     0.0           0.0              0.0         0.0  \n",
       "2                     0.0           0.0              0.0         0.0  \n",
       "3                     0.0           0.0              0.0         0.0  \n",
       "4                     0.0           0.0              0.0         0.0  \n",
       "\n",
       "[5 rows x 373 columns]"
      ]
     },
     "execution_count": 8,
     "metadata": {},
     "output_type": "execute_result"
    }
   ],
   "source": [
    "movie_data_clean.head()"
   ]
  },
  {
   "cell_type": "code",
   "execution_count": 9,
   "id": "b25e602c",
   "metadata": {},
   "outputs": [],
   "source": [
    "# Select relevant features for the model\n",
    "features = ['startYear', 'runtimeMinutes', 'averageRating', 'numVotes', 'budget'] + list(encoded_genres_df.columns)\n",
    "X = movie_data_clean[features]\n",
    "y = movie_data_clean['revenue']"
   ]
  },
  {
   "cell_type": "code",
   "execution_count": 10,
   "id": "ce4077d9",
   "metadata": {},
   "outputs": [],
   "source": [
    "# Using 80% of the data for training and 20% for testing\n",
    "X_train, X_test, y_train, y_test = train_test_split(X, y, test_size=0.2)"
   ]
  },
  {
   "cell_type": "code",
   "execution_count": 11,
   "id": "15563f48",
   "metadata": {},
   "outputs": [],
   "source": [
    "# Train a Random Forest Regressor\n",
    "model = make_pipeline(\n",
    "    MinMaxScaler(),\n",
    "    RandomForestRegressor(n_estimators=200, random_state=40)\n",
    ")\n",
    "model.fit(X_train, y_train)\n",
    "y_pred = model.predict(X_test)"
   ]
  },
  {
   "cell_type": "code",
   "execution_count": 12,
   "id": "3ceb9521",
   "metadata": {},
   "outputs": [],
   "source": [
    "# Fit a linear regression model for Random Forest predictions\n",
    "linear_reg_rf = LinearRegression()\n",
    "linear_reg_rf.fit(y_test.values.reshape(-1, 1), y_pred)\n",
    "slope = linear_reg_rf.coef_[0]\n",
    "intercept = linear_reg_rf.intercept_"
   ]
  },
  {
   "cell_type": "code",
   "execution_count": 13,
   "id": "75e95587",
   "metadata": {},
   "outputs": [
    {
     "data": {
      "text/plain": [
       "0.965855060979979"
      ]
     },
     "execution_count": 13,
     "metadata": {},
     "output_type": "execute_result"
    }
   ],
   "source": [
    "# show prediction scores for training and testing\n",
    "model.score(X_train, y_train)\n"
   ]
  },
  {
   "cell_type": "code",
   "execution_count": 14,
   "id": "b03fbe54",
   "metadata": {},
   "outputs": [
    {
     "data": {
      "text/plain": [
       "0.7904975786593997"
      ]
     },
     "execution_count": 14,
     "metadata": {},
     "output_type": "execute_result"
    }
   ],
   "source": [
    "model.score(X_test, y_test)"
   ]
  },
  {
   "cell_type": "code",
   "execution_count": 15,
   "id": "8a16965d",
   "metadata": {},
   "outputs": [
    {
     "data": {
      "text/plain": [
       "Text(0.5, 1.0, 'Random Forest: Actual vs Predicted Revenue')"
      ]
     },
     "execution_count": 15,
     "metadata": {},
     "output_type": "execute_result"
    },
    {
     "data": {
      "image/png": "[encoded data removed]",
      "text/plain": [
       "<Figure size 640x480 with 1 Axes>"
      ]
     },
     "metadata": {},
     "output_type": "display_data"
    }
   ],
   "source": [
    "# plot the predictions and linear regression \n",
    "plt.scatter(y_test, y_pred, alpha=0.5)\n",
    "plt.plot(y_test, y_test * slope + intercept, '--', color='red')\n",
    "plt.xlabel('Actual Revenue')\n",
    "plt.ylabel('Predicted Revenue')\n",
    "plt.legend(['Revenue Prediction', 'Linear Fit'], loc=\"upper left\")\n",
    "plt.title('Random Forest: Actual vs Predicted Revenue')"
   ]
  },
  {
   "cell_type": "code",
   "execution_count": null,
   "id": "f9ae3729",
   "metadata": {},
   "outputs": [],
   "source": []
  }
 ],
 "metadata": {
  "kernelspec": {
   "display_name": "Python 3 (ipykernel)",
   "language": "python",
   "name": "python3"
  },
  "language_info": {
   "codemirror_mode": {
    "name": "ipython",
    "version": 3
   },
   "file_extension": ".py",
   "mimetype": "text/x-python",
   "name": "python",
   "nbconvert_exporter": "python",
   "pygments_lexer": "ipython3",
   "version": "3.9.15"
  }
 },
 "nbformat": 4,
 "nbformat_minor": 5
}
